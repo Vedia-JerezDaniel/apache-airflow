{
 "cells": [
  {
   "cell_type": "code",
   "execution_count": 7,
   "id": "b7415d3f",
   "metadata": {},
   "outputs": [],
   "source": [
    "import pathlib\n",
    "import pendulum"
   ]
  },
  {
   "cell_type": "code",
   "execution_count": 4,
   "id": "84513a50",
   "metadata": {},
   "outputs": [],
   "source": [
    "pathlib.Path(\"/tmp/images\").mkdir(parents=True, exist_ok=True)"
   ]
  }
 ],
 "metadata": {
  "kernelspec": {
   "display_name": "base",
   "language": "python",
   "name": "python3"
  },
  "language_info": {
   "codemirror_mode": {
    "name": "ipython",
    "version": 3
   },
   "file_extension": ".py",
   "mimetype": "text/x-python",
   "name": "python",
   "nbconvert_exporter": "python",
   "pygments_lexer": "ipython3",
   "version": "3.12.9"
  }
 },
 "nbformat": 4,
 "nbformat_minor": 5
}
